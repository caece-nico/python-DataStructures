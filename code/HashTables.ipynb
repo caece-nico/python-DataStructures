{
 "cells": [
  {
   "cell_type": "code",
   "execution_count": 48,
   "metadata": {},
   "outputs": [],
   "source": [
    "       \n",
    "class HashTable:\n",
    "    def __init__(self, size = 7):\n",
    "        self.data_map = [None] * size\n",
    "        \n",
    "    def __hash(self, key):\n",
    "        my_hash = 0\n",
    "        for letter in key:\n",
    "            my_hash = (my_hash + ord(letter) * 23) % len(self.data_map)\n",
    "        return my_hash\n",
    "    \n",
    "    def set_item(self, key, value):\n",
    "        index = self.__hash(key)\n",
    "        \n",
    "        if self.data_map[index] is None:\n",
    "            self.data_map[index] = []\n",
    "        self.data_map[index].append([key, value])\n",
    "\n",
    "        return True\n",
    "\n",
    "    def get_item(self, key):\n",
    "        index = self.__hash(key)\n",
    "        if self.data_map[index] is not None:\n",
    "            for idx in range(len(self.data_map[index])):\n",
    "                if self.data_map[index][idx][0] == key:\n",
    "                    return self.data_map[index][0][1]\n",
    "        return None\n",
    "    \n",
    "    def keys(self):\n",
    "        all_keys = []\n",
    "        for i in range(len(self.data_map)):\n",
    "            if self.data_map[i] is not None:\n",
    "                for j in range(len(self.data_map[i])):\n",
    "                    all_keys.append(self.data_map[i][j][0])\n",
    "        return all_keys\n",
    "                \n",
    "        "
   ]
  },
  {
   "cell_type": "code",
   "execution_count": 49,
   "metadata": {},
   "outputs": [
    {
     "name": "stdout",
     "output_type": "stream",
     "text": [
      "[None, None, None, None, None, None, None]\n",
      "[[['tuerca', 120], ['martillo', 150]], [['clavos', 1237]], [['tornillo', 50]], [['destornillador', 357]], None, None, None]\n",
      "120\n",
      "1237\n",
      "None\n"
     ]
    }
   ],
   "source": [
    "ht = HashTable(7)\n",
    "print(ht.data_map)\n",
    "\n",
    "ht.set_item('tornillo', 50)\n",
    "ht.set_item('tuerca', 120)\n",
    "ht.set_item('martillo', 150)\n",
    "ht.set_item('clavos', 1237)\n",
    "ht.set_item('destornillador', 357)\n",
    "\n",
    "print(ht.data_map)\n",
    "\n",
    "print(ht.get_item('martillo'))\n",
    "print(ht.get_item('clavos'))\n",
    "print(ht.get_item('nicolas'))"
   ]
  },
  {
   "cell_type": "code",
   "execution_count": 50,
   "metadata": {},
   "outputs": [
    {
     "name": "stdout",
     "output_type": "stream",
     "text": [
      "['tuerca', 'martillo', 'clavos', 'tornillo', 'destornillador']\n"
     ]
    }
   ],
   "source": [
    "print(ht.keys())"
   ]
  }
 ],
 "metadata": {
  "kernelspec": {
   "display_name": "Python 3",
   "language": "python",
   "name": "python3"
  },
  "language_info": {
   "codemirror_mode": {
    "name": "ipython",
    "version": 3
   },
   "file_extension": ".py",
   "mimetype": "text/x-python",
   "name": "python",
   "nbconvert_exporter": "python",
   "pygments_lexer": "ipython3",
   "version": "3.12.2"
  }
 },
 "nbformat": 4,
 "nbformat_minor": 2
}
