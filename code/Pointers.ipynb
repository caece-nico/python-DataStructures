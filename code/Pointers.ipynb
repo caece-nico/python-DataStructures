{
 "cells": [
  {
   "cell_type": "code",
   "execution_count": 24,
   "metadata": {},
   "outputs": [],
   "source": [
    "num1 = 11\n",
    "num2 = num1"
   ]
  },
  {
   "cell_type": "code",
   "execution_count": 25,
   "metadata": {},
   "outputs": [
    {
     "name": "stdout",
     "output_type": "stream",
     "text": [
      "Numero 1 11\n",
      "Numero 2 11\n",
      "Numero 1 points to  140235992760880\n",
      "Numero 2 points to 140235992760880\n"
     ]
    }
   ],
   "source": [
    "print(\"Numero 1 {}\".format(num1))\n",
    "print(\"Numero 2 {}\".format(num2))\n",
    "\n",
    "print(\"Numero 1 points to  {}\".format(id(num1)))\n",
    "print(\"Numero 2 points to {}\".format(id(num2)))"
   ]
  },
  {
   "cell_type": "code",
   "execution_count": 26,
   "metadata": {},
   "outputs": [
    {
     "name": "stdout",
     "output_type": "stream",
     "text": [
      "Numero 1 11\n",
      "Numero 2 33\n",
      "Numero 1 points to  140235992760880\n",
      "Numero 2 points to 140235992761584\n"
     ]
    }
   ],
   "source": [
    "num2 = 33\n",
    "\n",
    "print(\"Numero 1 {}\".format(num1))\n",
    "print(\"Numero 2 {}\".format(num2))\n",
    "\n",
    "print(\"Numero 1 points to  {}\".format(id(num1)))\n",
    "print(\"Numero 2 points to {}\".format(id(num2)))"
   ]
  },
  {
   "cell_type": "code",
   "execution_count": 27,
   "metadata": {},
   "outputs": [
    {
     "name": "stdout",
     "output_type": "stream",
     "text": [
      "El diccionario dict1 apunta a 140235920727424\n",
      "El diccionario dict2 apunta a 140235920727424\n"
     ]
    }
   ],
   "source": [
    "dict1 = {\n",
    "    'value': 22\n",
    "        }\n",
    "\n",
    "dict2 = dict1\n",
    "\n",
    "print(\"El diccionario dict1 apunta a {}\".format(id(dict1)))\n",
    "print(\"El diccionario dict2 apunta a {}\".format(id(dict2)))"
   ]
  },
  {
   "cell_type": "code",
   "execution_count": 29,
   "metadata": {},
   "outputs": [
    {
     "name": "stdout",
     "output_type": "stream",
     "text": [
      "Ev valor de diccionario1 es {'value': 133}\n",
      "Ev valor de diccionario2 es {'value': 133}\n",
      "El diccionario dict1 apunta a 140235920727424\n",
      "El diccionario dict2 apunta a 140235920727424\n"
     ]
    }
   ],
   "source": [
    "dict2['value'] = 133\n",
    "\n",
    "print(\"Ev valor de diccionario1 es {}\".format(dict1))\n",
    "print(\"Ev valor de diccionario2 es {}\".format(dict2))\n",
    "\n",
    "print(\"El diccionario dict1 apunta a {}\".format(id(dict1)))\n",
    "print(\"El diccionario dict2 apunta a {}\".format(id(dict2)))"
   ]
  },
  {
   "cell_type": "code",
   "execution_count": 35,
   "metadata": {},
   "outputs": [
    {
     "name": "stdout",
     "output_type": "stream",
     "text": [
      "La lista1 contiene [1, 2, 3]\n",
      "La lista2 contiene [1, 2, 3]\n",
      "La lista1 apunta a 140235920985344\n",
      "La lista2 apunta a 140235920985344\n"
     ]
    }
   ],
   "source": [
    "lista1 = [1,2,3]\n",
    "lista2 = lista1\n",
    "\n",
    "print(\"La lista1 contiene {}\".format(lista1))\n",
    "print(\"La lista2 contiene {}\".format(lista2))\n",
    "\n",
    "print(\"La lista1 apunta a {}\".format(id(lista1)))\n",
    "print(\"La lista2 apunta a {}\".format(id(lista2)))"
   ]
  },
  {
   "cell_type": "code",
   "execution_count": 36,
   "metadata": {},
   "outputs": [
    {
     "name": "stdout",
     "output_type": "stream",
     "text": [
      "La lista1 contiene [1, 2, 3]\n",
      "La lista2 contiene [1, 2, 3]\n",
      "La lista1 apunta a 140235920985344\n",
      "La lista2 apunta a 140235920985344\n"
     ]
    }
   ],
   "source": [
    "lista1[1] = 2\n",
    "\n",
    "print(\"La lista1 contiene {}\".format(lista1))\n",
    "print(\"La lista2 contiene {}\".format(lista2))\n",
    "\n",
    "print(\"La lista1 apunta a {}\".format(id(lista1)))\n",
    "print(\"La lista2 apunta a {}\".format(id(lista2)))\n"
   ]
  },
  {
   "cell_type": "code",
   "execution_count": 37,
   "metadata": {},
   "outputs": [
    {
     "name": "stdout",
     "output_type": "stream",
     "text": [
      "La lista3 contiene [2, 3, 4]\n",
      "La lista2 contiene [1, 2, 3]\n",
      "La lista3 apunta a 140235921072192\n",
      "La lista2 apunta a 140235920985344\n"
     ]
    }
   ],
   "source": [
    "lista3 = [2,3,4,]\n",
    "\n",
    "print(\"La lista3 contiene {}\".format(lista3))\n",
    "print(\"La lista2 contiene {}\".format(lista2))\n",
    "\n",
    "print(\"La lista3 apunta a {}\".format(id(lista3)))\n",
    "print(\"La lista2 apunta a {}\".format(id(lista2)))"
   ]
  },
  {
   "cell_type": "code",
   "execution_count": 38,
   "metadata": {},
   "outputs": [
    {
     "name": "stdout",
     "output_type": "stream",
     "text": [
      "La lista3 contiene [2, 3, 4]\n",
      "La lista2 contiene [2, 3, 4]\n",
      "La lista3 apunta a 140235921072192\n",
      "La lista2 apunta a 140235921072192\n"
     ]
    }
   ],
   "source": [
    "lista2 = lista3\n",
    "\n",
    "print(\"La lista3 contiene {}\".format(lista3))\n",
    "print(\"La lista2 contiene {}\".format(lista2))\n",
    "\n",
    "print(\"La lista3 apunta a {}\".format(id(lista3)))\n",
    "print(\"La lista2 apunta a {}\".format(id(lista2)))"
   ]
  }
 ],
 "metadata": {
  "kernelspec": {
   "display_name": "Python 3",
   "language": "python",
   "name": "python3"
  },
  "language_info": {
   "codemirror_mode": {
    "name": "ipython",
    "version": 3
   },
   "file_extension": ".py",
   "mimetype": "text/x-python",
   "name": "python",
   "nbconvert_exporter": "python",
   "pygments_lexer": "ipython3",
   "version": "3.10.12"
  }
 },
 "nbformat": 4,
 "nbformat_minor": 2
}
