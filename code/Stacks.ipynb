{
 "cells": [
  {
   "cell_type": "code",
   "execution_count": 27,
   "metadata": {},
   "outputs": [],
   "source": [
    "class Node:\n",
    "    def __init__(self, value):\n",
    "        self.value = value\n",
    "        self.next = None\n",
    "        \n",
    "class Stacks:\n",
    "    def __init__(self, value):\n",
    "        new_value = Node(value)\n",
    "        self.top = new_value\n",
    "        self.height = 1\n",
    "        \n",
    " \n",
    "    def  push(self, value):\n",
    "        new_value = Node(value)\n",
    "        \n",
    "        if self.top is None:\n",
    "            print('salio por aca')\n",
    "            self.top = new_value\n",
    "        else:\n",
    "            print('No, salio por aca')\n",
    "            temp = self.top  \n",
    "            new_value.next = temp\n",
    "            self.top = new_value\n",
    "            \n",
    "        self.height += 1\n",
    "        return True\n",
    "    \n",
    "    def pop(self):\n",
    "        \n",
    "        if self.top is None:\n",
    "            return False\n",
    "        \n",
    "        temp = self.top\n",
    "        \n",
    "        self.top = temp.next\n",
    "        \n",
    "        self.height -= 1\n",
    "        \n",
    "        return temp        "
   ]
  },
  {
   "cell_type": "code",
   "execution_count": 36,
   "metadata": {},
   "outputs": [
    {
     "name": "stdout",
     "output_type": "stream",
     "text": [
      "7\n",
      "No, salio por aca\n",
      "10\n",
      "No, salio por aca\n",
      "16\n",
      "10\n",
      "7\n",
      "7\n",
      "0\n"
     ]
    }
   ],
   "source": [
    "st = Stacks(7)\n",
    "\n",
    "print(st.top.value)\n",
    "\n",
    "st.push(10)\n",
    "\n",
    "print(st.top.value)\n",
    "\n",
    "st.push(16)\n",
    "\n",
    "print(st.top.value)\n",
    "\n",
    "st.pop()\n",
    "\n",
    "print(st.top.value)\n",
    "\n",
    "st.pop()\n",
    "\n",
    "print(st.top.value)\n",
    "\n",
    "print(st.pop().value)\n",
    "\n",
    "print(st.height)\n",
    "\n"
   ]
  }
 ],
 "metadata": {
  "kernelspec": {
   "display_name": "Python 3",
   "language": "python",
   "name": "python3"
  },
  "language_info": {
   "codemirror_mode": {
    "name": "ipython",
    "version": 3
   },
   "file_extension": ".py",
   "mimetype": "text/x-python",
   "name": "python",
   "nbconvert_exporter": "python",
   "pygments_lexer": "ipython3",
   "version": "3.12.2"
  }
 },
 "nbformat": 4,
 "nbformat_minor": 2
}
