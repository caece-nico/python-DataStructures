{
 "cells": [
  {
   "cell_type": "code",
   "execution_count": 431,
   "metadata": {},
   "outputs": [],
   "source": [
    "class Node:\n",
    "    def __init__ (self, value):\n",
    "        self.value = value\n",
    "        self.next = None\n",
    "        \n",
    "class LinkedList:\n",
    "    def __init__(self, value):\n",
    "        new_node = Node(value)\n",
    "        print(id(new_node))\n",
    "        self.head = new_node\n",
    "        self.tail = new_node\n",
    "        \n",
    "    def append(self, value):\n",
    "        new_node = Node(value)\n",
    "        print(id(new_node))\n",
    "        \n",
    "        self.tail.next = new_node\n",
    "        \n",
    "        self.tail = new_node\n",
    "        \n",
    "        self.tail = Node(44)\n",
    "\n",
    "        \n",
    "        \n",
    "        print(id(self.tail))"
   ]
  },
  {
   "cell_type": "code",
   "execution_count": 432,
   "metadata": {},
   "outputs": [
    {
     "name": "stdout",
     "output_type": "stream",
     "text": [
      "139644996501216\n",
      "139644996501216\n",
      "139644996501216\n"
     ]
    }
   ],
   "source": [
    "ll = LinkedList(4)\n",
    "print(id(ll.head))\n",
    "print(id(ll.tail))"
   ]
  },
  {
   "cell_type": "code",
   "execution_count": 433,
   "metadata": {},
   "outputs": [
    {
     "name": "stdout",
     "output_type": "stream",
     "text": [
      "139645475520848\n",
      "139645475520848\n"
     ]
    }
   ],
   "source": [
    "print(id(ll.head.value))\n",
    "print(id(ll.tail.value))"
   ]
  },
  {
   "cell_type": "code",
   "execution_count": 434,
   "metadata": {},
   "outputs": [
    {
     "name": "stdout",
     "output_type": "stream",
     "text": [
      "94227160773600\n",
      "94227160773600\n"
     ]
    }
   ],
   "source": [
    "print(id(ll.head.next))\n",
    "print(id(ll.tail.next))"
   ]
  },
  {
   "cell_type": "code",
   "execution_count": 435,
   "metadata": {},
   "outputs": [
    {
     "name": "stdout",
     "output_type": "stream",
     "text": [
      "139644996500736\n",
      "139644996491568\n"
     ]
    }
   ],
   "source": [
    "ll.append(24)"
   ]
  },
  {
   "cell_type": "code",
   "execution_count": 436,
   "metadata": {},
   "outputs": [
    {
     "name": "stdout",
     "output_type": "stream",
     "text": [
      "94227160773600\n"
     ]
    }
   ],
   "source": [
    "print(id(ll.head.next.next))"
   ]
  },
  {
   "cell_type": "code",
   "execution_count": 392,
   "metadata": {},
   "outputs": [
    {
     "name": "stdout",
     "output_type": "stream",
     "text": [
      "139645359024080\n",
      "139645359018896\n"
     ]
    }
   ],
   "source": [
    "print(id(ll.head))\n",
    "print(id(ll.tail))"
   ]
  },
  {
   "cell_type": "code",
   "execution_count": 393,
   "metadata": {},
   "outputs": [
    {
     "name": "stdout",
     "output_type": "stream",
     "text": [
      "139645359018896\n"
     ]
    }
   ],
   "source": [
    "print(id(ll.head.next))"
   ]
  },
  {
   "cell_type": "code",
   "execution_count": 394,
   "metadata": {},
   "outputs": [
    {
     "name": "stdout",
     "output_type": "stream",
     "text": [
      "<__main__.Node object at 0x7f01b804d390>\n"
     ]
    }
   ],
   "source": [
    "print(ll.head.next)"
   ]
  },
  {
   "cell_type": "code",
   "execution_count": 441,
   "metadata": {},
   "outputs": [
    {
     "name": "stdout",
     "output_type": "stream",
     "text": [
      "24\n"
     ]
    }
   ],
   "source": [
    "print(ll.head.next.value)"
   ]
  }
 ],
 "metadata": {
  "kernelspec": {
   "display_name": "Python 3",
   "language": "python",
   "name": "python3"
  },
  "language_info": {
   "codemirror_mode": {
    "name": "ipython",
    "version": 3
   },
   "file_extension": ".py",
   "mimetype": "text/x-python",
   "name": "python",
   "nbconvert_exporter": "python",
   "pygments_lexer": "ipython3",
   "version": "3.10.12"
  }
 },
 "nbformat": 4,
 "nbformat_minor": 2
}
