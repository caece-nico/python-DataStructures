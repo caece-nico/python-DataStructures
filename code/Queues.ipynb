{
 "cells": [
  {
   "cell_type": "code",
   "execution_count": 10,
   "metadata": {},
   "outputs": [],
   "source": [
    "class Node:\n",
    "    def __init__ (self, value):\n",
    "        self.value = value\n",
    "        self.next = None\n",
    "        \n",
    "        \n",
    "class Queue:\n",
    "    def __init__(self, value):\n",
    "        new_node = Node(value)\n",
    "        self.first = new_node\n",
    "        self.last = new_node\n",
    "        self.length = 1 \n",
    "        \n",
    "    def enqueue(self, value):\n",
    "        new_node = Node(value)\n",
    "        \n",
    "        if self.first is None:\n",
    "            self.first = new_node\n",
    "            self.lst = new_node\n",
    "        else:\n",
    "            self.last.next = new_node\n",
    "            self.last = new_node\n",
    "            \n",
    "        self.length +=1\n",
    "        \n",
    "    def dequeue(self):\n",
    "        if self.length == 0:\n",
    "            return None\n",
    "        \n",
    "        temp = self.first\n",
    "        if temp is not None:\n",
    "            self.first = temp.next\n",
    "        \n",
    "        self.length -=1\n",
    "        \n",
    "        return temp\n",
    "            \n",
    "            \n",
    "        \n",
    "           "
   ]
  },
  {
   "cell_type": "code",
   "execution_count": 15,
   "metadata": {},
   "outputs": [
    {
     "name": "stdout",
     "output_type": "stream",
     "text": [
      "5\n",
      "10\n",
      "15\n",
      "10\n",
      "15\n"
     ]
    }
   ],
   "source": [
    "qq = Queue(5)\n",
    "\n",
    "print(qq.last.value)\n",
    "\n",
    "qq.enqueue(10)\n",
    "\n",
    "print(qq.first.next.value)\n",
    "\n",
    "qq.enqueue(15)\n",
    "\n",
    "print(qq.last.value)\n",
    "\n",
    "qq.dequeue()\n",
    "\n",
    "print(qq.first.value)\n",
    "\n",
    "print(qq.first.next.value)\n"
   ]
  }
 ],
 "metadata": {
  "kernelspec": {
   "display_name": "Python 3",
   "language": "python",
   "name": "python3"
  },
  "language_info": {
   "codemirror_mode": {
    "name": "ipython",
    "version": 3
   },
   "file_extension": ".py",
   "mimetype": "text/x-python",
   "name": "python",
   "nbconvert_exporter": "python",
   "pygments_lexer": "ipython3",
   "version": "3.12.2"
  }
 },
 "nbformat": 4,
 "nbformat_minor": 2
}
