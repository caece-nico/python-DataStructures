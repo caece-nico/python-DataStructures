{
 "cells": [
  {
   "cell_type": "code",
   "execution_count": 49,
   "metadata": {},
   "outputs": [],
   "source": [
    "class Node:\n",
    "    def __init__(self, value):\n",
    "        self.value = value\n",
    "        self.right = None\n",
    "        self.left = None\n",
    "        \n",
    "class BinarySearchTree:\n",
    "    def __init__(self):\n",
    "        self.root = None\n",
    "        \n",
    "    def insert(self, value):\n",
    "        new_node = Node(value)\n",
    "        if self.root == None:\n",
    "            self.root = new_node\n",
    "        \n",
    "        temp = self.root\n",
    "        \n",
    "        while True:\n",
    "            if value < temp.value:\n",
    "                print('Entro por menor')\n",
    "                if temp.left is None:\n",
    "                    temp.left = new_node\n",
    "                    return True\n",
    "                temp = temp.left\n",
    "            elif value > temp.value:\n",
    "                if temp.right is None:\n",
    "                    temp.right = new_node\n",
    "                    return True\n",
    "                temp = temp.right\n",
    "            else:\n",
    "                return False\n",
    "            \n",
    "    def contains(self, value):\n",
    "        if self.root is None:\n",
    "            return None\n",
    "        \n",
    "        temp = self.root\n",
    "        \n",
    "        while True:\n",
    "            if value < temp.value:\n",
    "                if temp.left is not None:\n",
    "                    temp = temp.left\n",
    "                else:\n",
    "                    return False\n",
    "            elif value > temp.value:\n",
    "                if temp.right is not None:\n",
    "                    temp = temp.right\n",
    "                else:\n",
    "                    return False\n",
    "            else:\n",
    "                return True\n",
    "                    "
   ]
  },
  {
   "cell_type": "code",
   "execution_count": 47,
   "metadata": {},
   "outputs": [
    {
     "name": "stdout",
     "output_type": "stream",
     "text": [
      "5\n",
      "Entro por menor\n",
      "3\n",
      "10\n",
      "14\n",
      "Entro por menor\n",
      "9\n",
      "True\n"
     ]
    }
   ],
   "source": [
    "bst = BinarySearchTree()\n",
    "\n",
    "bst.insert(5)\n",
    "\n",
    "print(bst.root.value)\n",
    "\n",
    "bst.insert(3)\n",
    "\n",
    "print(bst.root.left.value)\n",
    "\n",
    "bst.insert(10)\n",
    "\n",
    "print(bst.root.right.value)\n",
    "\n",
    "bst.insert(14)\n",
    "\n",
    "print(bst.root.right.right.value)\n",
    "\n",
    "bst.insert(9)\n",
    "\n",
    "print(bst.root.right.left.value)\n",
    "\n",
    "\n",
    "print(bst.contains(14))"
   ]
  }
 ],
 "metadata": {
  "kernelspec": {
   "display_name": "Python 3",
   "language": "python",
   "name": "python3"
  },
  "language_info": {
   "codemirror_mode": {
    "name": "ipython",
    "version": 3
   },
   "file_extension": ".py",
   "mimetype": "text/x-python",
   "name": "python",
   "nbconvert_exporter": "python",
   "pygments_lexer": "ipython3",
   "version": "3.12.2"
  }
 },
 "nbformat": 4,
 "nbformat_minor": 2
}
