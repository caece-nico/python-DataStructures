{
 "cells": [
  {
   "cell_type": "markdown",
   "metadata": {},
   "source": [
    "# Linked List"
   ]
  },
  {
   "cell_type": "markdown",
   "metadata": {},
   "source": [
    "1. Creamos las clases para nuestra Linked List"
   ]
  },
  {
   "cell_type": "code",
   "execution_count": 20,
   "metadata": {},
   "outputs": [],
   "source": [
    "class Node:\n",
    "    def __init__(self, value):\n",
    "        self.value = value\n",
    "        self.next = None\n",
    "        \n",
    "class LinkedList:\n",
    "    def __init__(self, value):\n",
    "        new_node = Node(value)\n",
    "        self.head = new_node\n",
    "        self.tail = new_node\n",
    "        self.lenght = 1\n",
    "        \n",
    "    def print_list(self):\n",
    "        temp = self.head\n",
    "        while temp is not None:\n",
    "            print(temp.value)\n",
    "            temp = temp.next"
   ]
  },
  {
   "cell_type": "markdown",
   "metadata": {},
   "source": [
    "Creamos el __primer nodo__ de la __Linked List__.\n",
    "La particularidad de este nodo es que __head__ y __tail__ apuntan al mismo valor."
   ]
  },
  {
   "cell_type": "code",
   "execution_count": 17,
   "metadata": {},
   "outputs": [],
   "source": [
    "my_linked_list = LinkedList(4)"
   ]
  },
  {
   "cell_type": "markdown",
   "metadata": {},
   "source": [
    "- Método para imprimir la lista"
   ]
  },
  {
   "cell_type": "code",
   "execution_count": 19,
   "metadata": {},
   "outputs": [
    {
     "name": "stdout",
     "output_type": "stream",
     "text": [
      "4\n"
     ]
    }
   ],
   "source": [
    "my_linked_list.print_list()"
   ]
  },
  {
   "cell_type": "markdown",
   "metadata": {},
   "source": [
    "![](../img/linkedinlist-create.png)"
   ]
  },
  {
   "cell_type": "markdown",
   "metadata": {},
   "source": [
    "2. Agregamos el método __append__ "
   ]
  },
  {
   "cell_type": "code",
   "execution_count": 41,
   "metadata": {},
   "outputs": [],
   "source": [
    "class Node:\n",
    "    def __init__(self, value):\n",
    "        self.value = value\n",
    "        self.next = None\n",
    "\n",
    "class LinkedList:\n",
    "    def __init__(self, value):\n",
    "        new_node = Node(value)\n",
    "        self.head = new_node\n",
    "        self.tail = new_node\n",
    "        self.lenght = 1\n",
    "        \n",
    "    def append(self, value):\n",
    "        new_node = Node(value)\n",
    "        if self.lenght == 0:\n",
    "            self.head = new_node\n",
    "            self.tail = new_node\n",
    "        else:\n",
    "            self.tail.next = new_node\n",
    "            self.tail = new_node\n",
    "        self.lenght += 1\n",
    "        \n",
    "    def print_list(self):\n",
    "        temp = self.head\n",
    "        while temp is not None:\n",
    "            print(temp.value)\n",
    "            temp = temp.next"
   ]
  },
  {
   "cell_type": "markdown",
   "metadata": {},
   "source": [
    "2.1 Prueba. Agregamos el primer elemento a la lista y luego el segundo."
   ]
  },
  {
   "cell_type": "code",
   "execution_count": 42,
   "metadata": {},
   "outputs": [
    {
     "name": "stdout",
     "output_type": "stream",
     "text": [
      "4\n"
     ]
    }
   ],
   "source": [
    "my_linked_list = LinkedList(4)\n",
    "my_linked_list.print_list()"
   ]
  },
  {
   "cell_type": "code",
   "execution_count": 18,
   "metadata": {},
   "outputs": [
    {
     "name": "stdout",
     "output_type": "stream",
     "text": [
      "4\n",
      "35\n",
      "45\n",
      "56\n"
     ]
    }
   ],
   "source": [
    "my_linked_list.append(35)\n",
    "my_linked_list.append(45)\n",
    "my_linked_list.append(56)\n",
    "my_linked_list.print_list()"
   ]
  },
  {
   "cell_type": "code",
   "execution_count": 25,
   "metadata": {},
   "outputs": [
    {
     "data": {
      "text/plain": [
       "45"
      ]
     },
     "execution_count": 25,
     "metadata": {},
     "output_type": "execute_result"
    }
   ],
   "source": [
    "my_linked_list.head.next.next.value"
   ]
  },
  {
   "cell_type": "markdown",
   "metadata": {},
   "source": [
    "3. Agregamos el Método __pop__"
   ]
  },
  {
   "cell_type": "code",
   "execution_count": 59,
   "metadata": {},
   "outputs": [],
   "source": [
    "class Node:\n",
    "    def __init__(self, value):\n",
    "        self.value = value\n",
    "        self.next = None\n",
    "        \n",
    "class LinkedList:\n",
    "    def __init__(self, value):\n",
    "        new_node = Node(value)\n",
    "        self.head = new_node\n",
    "        self.tail = new_node\n",
    "        self.lenght = 1\n",
    "    \n",
    "    def append(self, value):   \n",
    "        new_node = Node(value)\n",
    "        if self.lenght == 0:\n",
    "            self.head = new_node\n",
    "            self.tail = new_node\n",
    "        else:\n",
    "            self.tail.next = new_node\n",
    "            self.tail = new_node\n",
    "            \n",
    "        self.lenght += 1  \n",
    "        \n",
    "    def pop(self):\n",
    "        if self.lenght == 0: # Si no tiene elementos\n",
    "            return None\n",
    "        \n",
    "        temp = self.head\n",
    "        pre = self.head\n",
    "        \n",
    "        while (temp.next):\n",
    "            pre = temp\n",
    "            temp = temp.next\n",
    "            \n",
    "        self.tail = pre\n",
    "        self.tail.next = None\n",
    "        \n",
    "        self.lenght -= 1\n",
    "        \n",
    "        # Si tenia un único elemento, el metodo anterior hace que head y tail \n",
    "        # aun sigan apuntando al nodo. Hay que setearlos en None.\n",
    "        if self.lenght == 0: \n",
    "            \n",
    "            self.head = None\n",
    "            self.tail = None\n",
    "            \n",
    "        return temp\n",
    "    \n",
    "    def print_list(self):\n",
    "        temp = self.head\n",
    "        while temp is not None:\n",
    "            print(temp.value)\n",
    "            temp = temp.next\n",
    "        "
   ]
  },
  {
   "cell_type": "markdown",
   "metadata": {},
   "source": [
    "Creamos una lista nueva"
   ]
  },
  {
   "cell_type": "code",
   "execution_count": 52,
   "metadata": {},
   "outputs": [
    {
     "name": "stdout",
     "output_type": "stream",
     "text": [
      "16\n"
     ]
    }
   ],
   "source": [
    "my_linked_list = LinkedList(16)\n",
    "my_linked_list.print_list()"
   ]
  },
  {
   "cell_type": "markdown",
   "metadata": {},
   "source": [
    "Agregamos algunos valores"
   ]
  },
  {
   "cell_type": "code",
   "execution_count": 53,
   "metadata": {},
   "outputs": [],
   "source": [
    "my_linked_list.append(5)\n",
    "my_linked_list.append(6)\n",
    "my_linked_list.append(7)\n",
    "my_linked_list.append(17)\n"
   ]
  },
  {
   "cell_type": "code",
   "execution_count": 54,
   "metadata": {},
   "outputs": [
    {
     "name": "stdout",
     "output_type": "stream",
     "text": [
      "16\n",
      "5\n",
      "6\n",
      "7\n",
      "17\n"
     ]
    }
   ],
   "source": [
    "my_linked_list.print_list()"
   ]
  },
  {
   "cell_type": "markdown",
   "metadata": {},
   "source": [
    "Elminamos un nodo y lo guardamos"
   ]
  },
  {
   "cell_type": "code",
   "execution_count": 55,
   "metadata": {},
   "outputs": [],
   "source": [
    "elminado = my_linked_list.pop()"
   ]
  },
  {
   "cell_type": "code",
   "execution_count": 58,
   "metadata": {},
   "outputs": [
    {
     "name": "stdout",
     "output_type": "stream",
     "text": [
      "16\n",
      "5\n",
      "6\n",
      "7\n",
      "None\n",
      "El valor eliminado es 17 None\n"
     ]
    }
   ],
   "source": [
    "print(my_linked_list.print_list())\n",
    "print(\"El valor eliminado es {} {}\".format(elminado.value, elminado.next))"
   ]
  },
  {
   "cell_type": "markdown",
   "metadata": {},
   "source": [
    "4. Agregamos el método __prepend__"
   ]
  },
  {
   "cell_type": "code",
   "execution_count": 31,
   "metadata": {},
   "outputs": [],
   "source": [
    "class Node:\n",
    "    def __init__ (self, value):\n",
    "        self.value = value\n",
    "        self.next = None\n",
    "        \n",
    "class LinkedList:\n",
    "    def __init__(self, value):\n",
    "        new_node = Node(value)\n",
    "        self.head = new_node\n",
    "        self.tail = new_node\n",
    "        self.lenght = 1\n",
    "        \n",
    "    def append(self, value):\n",
    "        new_node = Node(value)\n",
    "        if self.lenght == 0:\n",
    "            self.head = new_node\n",
    "            self.tail = new_node\n",
    "        else:\n",
    "            self.tail.next = new_node\n",
    "            self.tail = new_node\n",
    "        self.lenght += 1\n",
    "        \n",
    "    def pop(self):\n",
    "        if self.lenght == 0:\n",
    "            return None\n",
    "        else:\n",
    "            temp = self.head\n",
    "            pre = self.head\n",
    "            \n",
    "            while temp.next is not None:\n",
    "                pre = temp\n",
    "                temp = temp.next\n",
    "                \n",
    "            self.tail = pre\n",
    "            self.tail.next = None\n",
    "            self.lenght -=1\n",
    "            \n",
    "        if self.lenght == 0:\n",
    "            self.head = None\n",
    "            self.tail = None\n",
    "        \n",
    "        return pre    \n",
    "    \n",
    "    def print_line(self):\n",
    "        temp = self.head\n",
    "        \n",
    "        while temp.next is not None:\n",
    "            print(temp.value)\n",
    "            temp = temp.next   \n",
    "            \n",
    "    def  prepend(self, value):\n",
    "        new_node = Node(value)\n",
    "        \n",
    "        if self.lenght == 0:\n",
    "            self.head = new_node\n",
    "            self.tail = new_node\n",
    "        else:\n",
    "            new_node.next = self.head\n",
    "            self.head = new_node\n",
    "        self.lenght +=1\n",
    "        \n",
    "        return True\n",
    "        "
   ]
  },
  {
   "cell_type": "code",
   "execution_count": 32,
   "metadata": {},
   "outputs": [
    {
     "name": "stdout",
     "output_type": "stream",
     "text": [
      "15\n",
      "4\n",
      "10\n",
      "21\n",
      "Eliminamos\n",
      "15\n",
      "4\n",
      "10\n"
     ]
    }
   ],
   "source": [
    "my_linked_list = LinkedList(15)\n",
    "my_linked_list.append(4)\n",
    "my_linked_list.append(10)\n",
    "my_linked_list.append(21)\n",
    "my_linked_list.append(33)\n",
    "\n",
    "my_linked_list.print_line()\n",
    "\n",
    "print('Eliminamos')\n",
    "\n",
    "my_linked_list.pop()\n",
    "my_linked_list.print_line()"
   ]
  },
  {
   "cell_type": "code",
   "execution_count": 33,
   "metadata": {},
   "outputs": [
    {
     "name": "stdout",
     "output_type": "stream",
     "text": [
      "99\n",
      "15\n",
      "4\n",
      "10\n",
      "100\n",
      "99\n",
      "15\n",
      "4\n",
      "10\n"
     ]
    }
   ],
   "source": [
    "my_linked_list.prepend(99)\n",
    "my_linked_list.print_line()\n",
    "my_linked_list.prepend(100)\n",
    "my_linked_list.print_line()"
   ]
  },
  {
   "cell_type": "markdown",
   "metadata": {},
   "source": [
    "5. Agregamos el método __popFirst__"
   ]
  },
  {
   "cell_type": "code",
   "execution_count": 45,
   "metadata": {},
   "outputs": [],
   "source": [
    "class Node:\n",
    "    def __init__ (self, value):\n",
    "        self.value = value\n",
    "        self.next = None\n",
    "    \n",
    "class LinkedList:\n",
    "    def __init__ (self, value):\n",
    "        new_node = Node(value)\n",
    "        self.head = new_node\n",
    "        self.tail = new_node\n",
    "        self.lenght = 1\n",
    "        \n",
    "    def append(self, value):\n",
    "        new_node = Node(value)\n",
    "        \n",
    "        if self.lenght == 0:\n",
    "            self.head = new_node\n",
    "            self.tail = new_node\n",
    "        else:\n",
    "            self.tail.next = new_node\n",
    "            self.tail = new_node\n",
    "            \n",
    "        self.lenght +=1\n",
    "        return True\n",
    "    \n",
    "    def pop(self):\n",
    "        if self.lenght == 1:\n",
    "            self.head = None\n",
    "            self.tail = None\n",
    "        else:\n",
    "            temp = self.head\n",
    "            pre = self.head\n",
    "            \n",
    "            while temp.next is not None:\n",
    "                pre = temp\n",
    "                temp = temp.next\n",
    "                \n",
    "            self.tail = temp\n",
    "            self.tail.next = None\n",
    "            \n",
    "            \n",
    "        if self.lenght == 0:\n",
    "            self.head = None\n",
    "            self.tail = None\n",
    "        \n",
    "        self.lenght -=1\n",
    "        return pre  \n",
    "    \n",
    "    def prepend(self, value):\n",
    "        new_node = Node(value)\n",
    "        if self.lenght == 0:\n",
    "            self.head = new_node\n",
    "            self.tail = new_node\n",
    "        else:\n",
    "            new_node.next = self.head\n",
    "            self.head = new_node\n",
    "            \n",
    "        self.lenght +=1\n",
    "        return True\n",
    "        \n",
    "    def popFirst(self):\n",
    "        if self.lenght == 0:\n",
    "            return None\n",
    "        else:\n",
    "            temp = self.head\n",
    "            self.head = self.head.next\n",
    "            \n",
    "        if self.lenght == 0:\n",
    "            self.head = None\n",
    "            self.tail = None\n",
    "            \n",
    "        self.lenght -=1\n",
    "        \n",
    "        return temp\n",
    "    \n",
    "    def print_list(self):\n",
    "        temp = self.head\n",
    "        while temp is not None:\n",
    "            print(temp.value)\n",
    "            temp = temp.next"
   ]
  },
  {
   "cell_type": "code",
   "execution_count": 38,
   "metadata": {},
   "outputs": [
    {
     "name": "stdout",
     "output_type": "stream",
     "text": [
      "Imprimimos la lista creada\n",
      "15\n",
      "23\n",
      "24\n",
      "25\n",
      "26\n",
      "Eliminamos el ultimo elemento de la lista creada\n",
      "insertamos el primer elemento de la lista creada\n",
      "14\n",
      "15\n",
      "23\n",
      "24\n",
      "25\n",
      "26\n",
      "Eliminamos el primer elemento\n",
      "15\n",
      "23\n",
      "24\n",
      "25\n",
      "26\n"
     ]
    }
   ],
   "source": [
    "my_linked_list = LinkedList(15)\n",
    "my_linked_list.append(23)\n",
    "my_linked_list.append(24)\n",
    "my_linked_list.append(25)\n",
    "my_linked_list.append(26)\n",
    "print('Imprimimos la lista creada')\n",
    "my_linked_list.print_list()\n",
    "print('Eliminamos el ultimo elemento de la lista creada')\n",
    "my_linked_list.pop()\n",
    "print('insertamos el primer elemento de la lista creada')\n",
    "my_linked_list.prepend(14)\n",
    "my_linked_list.print_list()\n",
    "print('Eliminamos el primer elemento')\n",
    "my_linked_list.popFirst()\n",
    "my_linked_list.print_list()"
   ]
  },
  {
   "cell_type": "code",
   "execution_count": 46,
   "metadata": {},
   "outputs": [],
   "source": [
    "my_linked_list = LinkedList(16)"
   ]
  },
  {
   "cell_type": "code",
   "execution_count": 49,
   "metadata": {},
   "outputs": [
    {
     "name": "stdout",
     "output_type": "stream",
     "text": [
      "16\n"
     ]
    }
   ],
   "source": [
    "my_linked_list.print_list()"
   ]
  },
  {
   "cell_type": "code",
   "execution_count": 64,
   "metadata": {},
   "outputs": [
    {
     "data": {
      "text/plain": [
       "139840446224688"
      ]
     },
     "execution_count": 64,
     "metadata": {},
     "output_type": "execute_result"
    }
   ],
   "source": [
    "id(my_linked_list.head)"
   ]
  },
  {
   "cell_type": "code",
   "execution_count": 54,
   "metadata": {},
   "outputs": [
    {
     "data": {
      "text/plain": [
       "139840446224688"
      ]
     },
     "execution_count": 54,
     "metadata": {},
     "output_type": "execute_result"
    }
   ],
   "source": [
    "id(my_linked_list.tail)"
   ]
  },
  {
   "cell_type": "code",
   "execution_count": 56,
   "metadata": {},
   "outputs": [],
   "source": [
    "my_linked_list.tail.next = Node('24')\n",
    "my_linked_list.tail = Node('24')"
   ]
  },
  {
   "cell_type": "code",
   "execution_count": 59,
   "metadata": {},
   "outputs": [
    {
     "data": {
      "text/plain": [
       "139840446224688"
      ]
     },
     "execution_count": 59,
     "metadata": {},
     "output_type": "execute_result"
    }
   ],
   "source": [
    "id(my_linked_list.head)"
   ]
  },
  {
   "cell_type": "code",
   "execution_count": 63,
   "metadata": {},
   "outputs": [
    {
     "data": {
      "text/plain": [
       "'24'"
      ]
     },
     "execution_count": 63,
     "metadata": {},
     "output_type": "execute_result"
    }
   ],
   "source": [
    "my_linked_list.head.next.value"
   ]
  },
  {
   "cell_type": "markdown",
   "metadata": {},
   "source": [
    "6. Agregamos el método __get__ "
   ]
  },
  {
   "cell_type": "code",
   "execution_count": 72,
   "metadata": {},
   "outputs": [],
   "source": [
    "class Node:\n",
    "    def __init__(self, value):\n",
    "        self.value = value\n",
    "        self.next = None\n",
    "        \n",
    "class LinkedList:\n",
    "    def __init__ (self, value):\n",
    "        new_node = Node(value)\n",
    "        self.head = new_node\n",
    "        self.tail = new_node\n",
    "        self.lenght =1\n",
    "        \n",
    "    def append(self, value):\n",
    "        new_node = Node(value)\n",
    "        \n",
    "        if self.lenght == 0:\n",
    "            self.head = new_node\n",
    "            self.tail = new_node\n",
    "        else:\n",
    "            self.tail.next = new_node # Esto modifica directamente self.head por ser mutable\n",
    "            self.tail = new_node \n",
    "        \n",
    "        self.lenght += 1\n",
    "        return True\n",
    "    \n",
    "    def get(self, index):\n",
    "        if index < 0 or index > self.lenght:\n",
    "            return None\n",
    "        temp = self.head\n",
    "        for _ in range(index):\n",
    "            temp = temp.next\n",
    "        \n",
    "        return temp"
   ]
  },
  {
   "cell_type": "code",
   "execution_count": 77,
   "metadata": {},
   "outputs": [
    {
     "name": "stdout",
     "output_type": "stream",
     "text": [
      "6\n"
     ]
    }
   ],
   "source": [
    "mi_lista = LinkedList(16)\n",
    "mi_lista.append(4)\n",
    "mi_lista.append(5)\n",
    "mi_lista.append(6)\n",
    "mi_lista.append(7)\n",
    "mi_lista.append(88)\n",
    "\n",
    "elemento = mi_lista.get(3)\n",
    "print(elemento.value)\n"
   ]
  },
  {
   "cell_type": "markdown",
   "metadata": {},
   "source": [
    "7. Agregamos el método GET y setValue.\n",
    "Para este ejercicio vamos a hacer una variante. Primero vamos a Usar __setValue__ con código puro y luego una variente que use __GET()__"
   ]
  },
  {
   "cell_type": "code",
   "execution_count": 11,
   "metadata": {},
   "outputs": [],
   "source": [
    "class Node:\n",
    "    def __init__ (self, value):\n",
    "        self.value = value\n",
    "        self.next = None\n",
    "        \n",
    "class LinkedList:\n",
    "    def __init__(self, value):\n",
    "        new_node = Node(value)\n",
    "        self.head = new_node\n",
    "        self.tail = new_node\n",
    "        self.lenght = 1\n",
    "        \n",
    "    def append(self, value):\n",
    "        new_node = Node(value)\n",
    "        if self.lenght == 0:\n",
    "            self.head = new_node\n",
    "            self.tail = new_node\n",
    "        else:\n",
    "            self.tail.next = new_node\n",
    "            self.tail = new_node\n",
    "        self.lenght +=1\n",
    "        \n",
    "        return True\n",
    "    \n",
    "    def get(self, index):\n",
    "        if index < 0 or index > self.lenght:\n",
    "            return None\n",
    "        else:\n",
    "            temp = self.head\n",
    "            \n",
    "            for _ in range(index):\n",
    "                temp = temp.next\n",
    "            \n",
    "        return temp\n",
    "    \n",
    "    def setValue(self, index, value):\n",
    "        temp = self.get(index) # Tambien pudimos haber hecho la busqueda a mano.\n",
    "        \n",
    "        if temp:\n",
    "            temp.value = value #Recordemos que esta posicion de memoria apunta al head. \n",
    "            return True\n",
    "\n",
    "        return False     "
   ]
  },
  {
   "cell_type": "code",
   "execution_count": 12,
   "metadata": {},
   "outputs": [
    {
     "name": "stdout",
     "output_type": "stream",
     "text": [
      "44\n",
      "1099\n"
     ]
    }
   ],
   "source": [
    "my_linked_list = LinkedList(16)\n",
    "my_linked_list.append(3)\n",
    "my_linked_list.append(44)\n",
    "my_linked_list.append(66)\n",
    "rta = my_linked_list.get(2)\n",
    "print(rta.value)\n",
    "my_linked_list.setValue(2, 1099)\n",
    "rta = my_linked_list.get(2)\n",
    "print(rta.value)\n"
   ]
  },
  {
   "cell_type": "markdown",
   "metadata": {},
   "source": [
    "8. Agregamos el método __insert__"
   ]
  },
  {
   "cell_type": "code",
   "execution_count": 31,
   "metadata": {},
   "outputs": [],
   "source": [
    "class Node:\n",
    "    def __init__(self, value):\n",
    "        self.value = value\n",
    "        self.next = None\n",
    "        \n",
    "class LinkedList:\n",
    "    def __init__(self, value):\n",
    "        new_node = Node(value)\n",
    "        self.head = new_node\n",
    "        self.tail = new_node\n",
    "        self.lenght = 1\n",
    "        \n",
    "    def append(self, value):\n",
    "        new_node = Node(value)\n",
    "        if self.lenght == 0:\n",
    "            self.head = new_node\n",
    "            self.tail = new_node\n",
    "        else:\n",
    "            self.tail.next = new_node\n",
    "            self.tail = new_node\n",
    "        self.lenght +=1\n",
    "        \n",
    "        return True\n",
    "    \n",
    "    def prepend(self, value):\n",
    "        new_node = Node(value)\n",
    "        if self.lenght == 0:\n",
    "            self.head = new_node\n",
    "            self.tail = new_node\n",
    "        else:\n",
    "            new_node.next = self.head\n",
    "            self.head = new_node\n",
    "            \n",
    "        self.lenght +=1\n",
    "        return True\n",
    "    \n",
    "    def get(self, index):\n",
    "        if index < 0 or index > self.lenght:\n",
    "            return None\n",
    "        \n",
    "        temp = self.head\n",
    "        \n",
    "        for _ in range(index):\n",
    "            temp = temp.next\n",
    "            \n",
    "        return temp\n",
    "             \n",
    "    \n",
    "    def insert(self, index, value):\n",
    "        new_node = Node(value)\n",
    "        if index < 0 or index > self.lenght:\n",
    "            return None\n",
    "        if index == 0:\n",
    "            return self.prepend(value)\n",
    "        if index == self.lenght:\n",
    "            return self.append(value)\n",
    "        \n",
    "        pre = self.get(index -1)\n",
    "        new_node.next = pre.next\n",
    "        pre.next = new_node\n",
    "        \n",
    "        self.lenght +=1\n",
    "        \n",
    "        return True\n",
    "    \n",
    "    def print_lista(self):\n",
    "        temp = self.head\n",
    "        \n",
    "        while temp is not None:\n",
    "            print(temp.value)\n",
    "            temp = temp.next"
   ]
  },
  {
   "cell_type": "code",
   "execution_count": 32,
   "metadata": {},
   "outputs": [
    {
     "name": "stdout",
     "output_type": "stream",
     "text": [
      "16\n",
      "55\n",
      "4\n",
      "5\n",
      "6\n"
     ]
    }
   ],
   "source": [
    "mi_lista = LinkedList(16)\n",
    "mi_lista.append(4)\n",
    "mi_lista.append(5)\n",
    "mi_lista.append(6)\n",
    "mi_lista.insert(1, 55)\n",
    "mi_lista.print_lista()"
   ]
  },
  {
   "cell_type": "markdown",
   "metadata": {},
   "source": [
    "9. Agregamos el método Remove(index)"
   ]
  },
  {
   "cell_type": "code",
   "execution_count": 41,
   "metadata": {},
   "outputs": [],
   "source": [
    "class Node:\n",
    "    def __init__(self, value):\n",
    "        self.value = value\n",
    "        self.next = None\n",
    "        \n",
    "class LinkedList:\n",
    "    def __init__(self, value):\n",
    "        new_node = Node(value)\n",
    "        self.head = new_node\n",
    "        self.tail = new_node\n",
    "        self.lenght = 1\n",
    "        \n",
    "    def append(self, value):\n",
    "        new_node = Node(value)\n",
    "        if self.lenght == 0:\n",
    "            self.head = new_node\n",
    "            self.tail = new_node\n",
    "        else:\n",
    "            self.tail.next = new_node\n",
    "            self.tail = new_node\n",
    "            \n",
    "        self.lenght +=1\n",
    "        \n",
    "        return True\n",
    "    \n",
    "    def get(self, index):\n",
    "        if index < 0 or index > self.lenght:\n",
    "            return None\n",
    "        \n",
    "        temp = self.head.next\n",
    "        for _ in range(index):\n",
    "            temp = temp.next\n",
    "            \n",
    "        return temp\n",
    "    \n",
    "    \n",
    "    def remove(self, index):\n",
    "        if index < 0 or index > self.lenght:\n",
    "            return None\n",
    "        ## agrega pop() y popFirst()\n",
    "        \n",
    "        prep = self.get(index - 1) ## traemos el nodo anterior\n",
    "        \n",
    "        temp = prep.next ## Asignamos el nodo sieguiente a temp\n",
    "        \n",
    "        prep.next = temp.next ## Con esto eliminamos el nodo Index\n",
    "        \n",
    "        temp.next = None    ## Vamos a devolver el nodo que eliminamos pero ya no tiene\n",
    "                            ## sentido que devuelve el siguiente.\n",
    "                            \n",
    "        self.lenght -=1\n",
    "        \n",
    "        return temp\n",
    "        \n",
    "    def print_lista(self):\n",
    "        temp = self.head\n",
    "        \n",
    "        while temp is not None:\n",
    "            print(temp.value)\n",
    "            temp = temp.next    \n",
    "        \n",
    "        "
   ]
  },
  {
   "cell_type": "code",
   "execution_count": 43,
   "metadata": {},
   "outputs": [
    {
     "name": "stdout",
     "output_type": "stream",
     "text": [
      "16\n",
      "3\n",
      "4\n",
      "5\n",
      "16\n",
      "3\n",
      "4\n"
     ]
    }
   ],
   "source": [
    "mi_lista = LinkedList(16)\n",
    "mi_lista.append(3)\n",
    "mi_lista.append(4)\n",
    "mi_lista.append(5)\n",
    "mi_lista.print_lista()\n",
    "mi_lista.remove(2)\n",
    "mi_lista.print_lista()"
   ]
  },
  {
   "cell_type": "markdown",
   "metadata": {},
   "source": [
    "10. Agregamos método __reverse__"
   ]
  },
  {
   "cell_type": "code",
   "execution_count": 79,
   "metadata": {},
   "outputs": [],
   "source": [
    "class Node:\n",
    "    def __init__(self, value):\n",
    "        self.value = value\n",
    "        self.next = None\n",
    "        \n",
    "class LinkedList:\n",
    "    def __init__(self, value):\n",
    "        new_node = Node(value)\n",
    "        self.head = new_node\n",
    "        self.tail = new_node\n",
    "        self.lenght = 1\n",
    "        \n",
    "    def append(self,  value):\n",
    "        new_node = Node(value)\n",
    "        if self.lenght ==0:\n",
    "            self.head = new_node\n",
    "            self.tail = new_node\n",
    "        else:\n",
    "            self.tail.next = new_node\n",
    "            self.tail = new_node\n",
    "            \n",
    "        self.lenght +=1\n",
    "        \n",
    "        return True\n",
    "    \n",
    "    def reverse(self):\n",
    "        temp = self.head\n",
    "        self.head = self.tail\n",
    "        self.tail = temp\n",
    "        \n",
    "        \n",
    "        before = None\n",
    "        \n",
    "        #for _ in range(self.lenght):\n",
    "        #    after = temp.next\n",
    "        #    temp.next = before\n",
    "        #    before = temp\n",
    "        #    temp = after\n",
    "        \n",
    "    def print_lista(self):\n",
    "        temp = self.head\n",
    "        \n",
    "        while temp is not None:\n",
    "            print(temp.value)\n",
    "            temp = temp.next\n",
    "            "
   ]
  },
  {
   "cell_type": "code",
   "execution_count": 80,
   "metadata": {},
   "outputs": [
    {
     "name": "stdout",
     "output_type": "stream",
     "text": [
      "5\n"
     ]
    }
   ],
   "source": [
    "mi_lista = LinkedList(1)\n",
    "mi_lista.append(2)\n",
    "mi_lista.append(3)\n",
    "mi_lista.append(4)\n",
    "mi_lista.append(5)\n",
    "mi_lista.reverse()\n",
    "mi_lista.print_lista()\n"
   ]
  }
 ],
 "metadata": {
  "kernelspec": {
   "display_name": "Python 3",
   "language": "python",
   "name": "python3"
  },
  "language_info": {
   "codemirror_mode": {
    "name": "ipython",
    "version": 3
   },
   "file_extension": ".py",
   "mimetype": "text/x-python",
   "name": "python",
   "nbconvert_exporter": "python",
   "pygments_lexer": "ipython3",
   "version": "3.12.2"
  }
 },
 "nbformat": 4,
 "nbformat_minor": 2
}
