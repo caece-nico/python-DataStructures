{
 "cells": [
  {
   "cell_type": "markdown",
   "metadata": {},
   "source": [
    "## Creacion de Grafos\n",
    "\n",
    "### Constructor y Add Nodes"
   ]
  },
  {
   "cell_type": "code",
   "execution_count": 5,
   "metadata": {},
   "outputs": [],
   "source": [
    "class Graph:\n",
    "    def __init__(self):\n",
    "        self.adj_list = {}\n",
    "        \n",
    "    def add_vertex(self, vertex):\n",
    "        if vertex not in self.adj_list.keys():\n",
    "            self.adj_list[vertex] = []\n",
    "            return True\n",
    "        return None\n",
    "    \n",
    "    def print_graph(self):\n",
    "        for vertex in self.adj_list:\n",
    "            print(vertex, ' : ', self.adj_list[vertex])"
   ]
  },
  {
   "cell_type": "code",
   "execution_count": 10,
   "metadata": {},
   "outputs": [
    {
     "name": "stdout",
     "output_type": "stream",
     "text": [
      "15  :  []\n",
      "24  :  []\n",
      "11  :  []\n"
     ]
    }
   ],
   "source": [
    "gg = Graph()\n",
    "gg.add_vertex(15)\n",
    "gg.add_vertex(24)\n",
    "gg.add_vertex(11)\n",
    "gg.print_graph()"
   ]
  },
  {
   "cell_type": "markdown",
   "metadata": {},
   "source": [
    "### Agregamos Los Edges"
   ]
  },
  {
   "cell_type": "code",
   "execution_count": 19,
   "metadata": {},
   "outputs": [],
   "source": [
    "class Graph:\n",
    "    def __init__(self):\n",
    "        self.adj_list = {}\n",
    "        \n",
    "    def add_vertex(self, vertex):\n",
    "        if vertex not in self.adj_list.keys():\n",
    "            self.adj_list[vertex] = []\n",
    "            return True\n",
    "        return False\n",
    "    \n",
    "    def add_edge(self, v1, v2):\n",
    "        if v1 in self.adj_list.keys() and v2 in self.adj_list.keys():\n",
    "            self.adj_list[v1].append(v2)\n",
    "            self.adj_list[v2].append(v1)\n",
    "            return True\n",
    "        return False\n",
    "    \n",
    "    def print_graph(self):\n",
    "        for vertex in self.adj_list.keys():\n",
    "            print(vertex, ' : ', self.adj_list[vertex])"
   ]
  },
  {
   "cell_type": "code",
   "execution_count": 20,
   "metadata": {},
   "outputs": [
    {
     "name": "stdout",
     "output_type": "stream",
     "text": [
      "15  :  [20]\n",
      "20  :  [15]\n",
      "25  :  []\n",
      "None\n"
     ]
    }
   ],
   "source": [
    "gg = Graph()\n",
    "gg.add_vertex(15)\n",
    "gg.add_vertex(20)\n",
    "gg.add_vertex(25)\n",
    "gg.add_edge(15, 20)\n",
    "print(gg.print_graph())"
   ]
  },
  {
   "cell_type": "markdown",
   "metadata": {},
   "source": [
    "### Remove Edge\n",
    "\n",
    "En este ejemplo vamos a remover la conexión entre __A__ y __B__\n",
    "\n",
    "![](../img/img_grafos/graph_remove_edge.png)"
   ]
  },
  {
   "cell_type": "code",
   "execution_count": 10,
   "metadata": {},
   "outputs": [],
   "source": [
    "class Graph:\n",
    "    def __init__(self):\n",
    "        self.adj_list = {}\n",
    "        \n",
    "    def add_vertex(self, vertex):\n",
    "        if vertex not in self.adj_list.keys():\n",
    "            self.adj_list[vertex] = []\n",
    "            return True\n",
    "        return False\n",
    "    \n",
    "    def add_edge(self, v1, v2):\n",
    "        if v1 in self.adj_list.keys() and v2 in self.adj_list.keys():\n",
    "            self.adj_list[v1].append(v2)\n",
    "            self.adj_list[v2].append(v1)\n",
    "            return True\n",
    "        return False\n",
    "    \n",
    "    def remove_edge(self, v1, v2):\n",
    "        if v1 in self.adj_list.keys() and v2 in self.adj_list.keys():\n",
    "            try:\n",
    "                self.adj_list[v1].remove(v2)\n",
    "                self.adj_list[v2].remove(v1)\n",
    "            except ValueError:\n",
    "                pass\n",
    "            return True\n",
    "        return False\n",
    "    \n",
    "    def print_graph(self):\n",
    "        for vertex in self.adj_list.keys():\n",
    "            print(vertex, ' : ', self.adj_list[vertex])"
   ]
  },
  {
   "cell_type": "code",
   "execution_count": 13,
   "metadata": {},
   "outputs": [
    {
     "name": "stdout",
     "output_type": "stream",
     "text": [
      "A  :  ['B', 'C']\n",
      "B  :  ['A', 'C']\n",
      "C  :  ['A', 'B']\n",
      "A  :  ['C']\n",
      "B  :  ['C']\n",
      "C  :  ['A', 'B']\n"
     ]
    }
   ],
   "source": [
    "gg = Graph()\n",
    "gg.add_vertex('A')\n",
    "gg.add_vertex('B')\n",
    "gg.add_vertex('C')\n",
    "gg.add_edge('A', 'B')\n",
    "gg.add_edge('A', 'C')\n",
    "gg.add_edge('C', 'B')\n",
    "gg.print_graph()\n",
    "gg.remove_edge('A', 'B')\n",
    "gg.print_graph()"
   ]
  },
  {
   "cell_type": "markdown",
   "metadata": {},
   "source": [
    "### Remove Vertex\n",
    "\n",
    "En este ejemplo vamos a eliminar el Vertice D junt con sus relaciones\n",
    "\n",
    "![](../img/img_grafos/graph_remove_vertex_optimization_ex.png)"
   ]
  },
  {
   "cell_type": "code",
   "execution_count": 22,
   "metadata": {},
   "outputs": [],
   "source": [
    "class Graph:\n",
    "    def __init__(self):\n",
    "        self.adj_list = {}\n",
    "        \n",
    "    def add_vertex(self, vertex):\n",
    "        if vertex not in self.adj_list.keys():\n",
    "            self.adj_list[vertex] = []\n",
    "            return True\n",
    "        \n",
    "    def add_edge(self, v1, v2):\n",
    "        if v1 in self.adj_list.keys() and v2 in self.adj_list.keys():\n",
    "            self.adj_list[v1].append(v2)\n",
    "            self.adj_list[v2].append(v1)\n",
    "            return True\n",
    "        return False\n",
    "    \n",
    "    def remove_edge(self, v1, v2):\n",
    "        if v1 in self.adj_list.keys() and v2 in self.adj_list.keys():\n",
    "            try:\n",
    "                self.adj_list[v1].remove(v2)\n",
    "                self.adj_list[v2].remove(v1)\n",
    "            except ValueError:\n",
    "                pass\n",
    "            return True\n",
    "        return False\n",
    "    \n",
    "    def remove_vertex(self, vertex):\n",
    "        if vertex in self.adj_list.keys():\n",
    "            for otherVertex in self.adj_list[vertex]:\n",
    "                self.adj_list[otherVertex].remove(vertex)\n",
    "            del self.adj_list[vertex]\n",
    "            return True\n",
    "        return False\n",
    "    \n",
    "    def print_graph(self):\n",
    "        for vertex in self.adj_list:\n",
    "            print(vertex, ' : ', self.adj_list[vertex])\n",
    "            "
   ]
  },
  {
   "cell_type": "code",
   "execution_count": 23,
   "metadata": {},
   "outputs": [
    {
     "name": "stdout",
     "output_type": "stream",
     "text": [
      "A  :  ['B', 'C', 'D']\n",
      "B  :  ['A', 'D']\n",
      "C  :  ['A', 'D']\n",
      "D  :  ['A', 'B', 'C']\n",
      "A  :  ['B', 'C']\n",
      "B  :  ['A']\n",
      "C  :  ['A']\n"
     ]
    }
   ],
   "source": [
    "gg = Graph()\n",
    "gg.add_vertex('A')\n",
    "gg.add_vertex('B')\n",
    "gg.add_vertex('C')\n",
    "gg.add_vertex('D')\n",
    "gg.add_edge('A', 'B')\n",
    "gg.add_edge('A', 'C')\n",
    "gg.add_edge('A', 'D')\n",
    "gg.add_edge('B', 'D')\n",
    "gg.add_edge('C', 'D')\n",
    "gg.print_graph()\n",
    "gg.remove_vertex('D')\n",
    "gg.print_graph()"
   ]
  }
 ],
 "metadata": {
  "kernelspec": {
   "display_name": "Python 3",
   "language": "python",
   "name": "python3"
  },
  "language_info": {
   "codemirror_mode": {
    "name": "ipython",
    "version": 3
   },
   "file_extension": ".py",
   "mimetype": "text/x-python",
   "name": "python",
   "nbconvert_exporter": "python",
   "pygments_lexer": "ipython3",
   "version": "3.12.2"
  }
 },
 "nbformat": 4,
 "nbformat_minor": 2
}
