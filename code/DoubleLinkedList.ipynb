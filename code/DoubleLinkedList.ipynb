{
 "cells": [
  {
   "cell_type": "code",
   "execution_count": 216,
   "metadata": {},
   "outputs": [],
   "source": [
    "class Node:\n",
    "    def __init__(self, value):\n",
    "        self.value = value\n",
    "        self.next = None\n",
    "        self.prev = None\n",
    "        \n",
    "class DoubleLinkedList:\n",
    "    def __init__ (self, value):\n",
    "        new_node = Node(value)\n",
    "        self.head = new_node\n",
    "        self.tail = new_node\n",
    "        self.lenght = 1\n",
    "        \n",
    "    def append(self, value):\n",
    "        new_node = Node(value)\n",
    "        \n",
    "        if self.head is None:\n",
    "            self.head = new_node\n",
    "            self.tail = new_node\n",
    "        else:\n",
    "            self.tail.next = new_node\n",
    "            new_node.prev = self.tail\n",
    "            self.tail = new_node\n",
    "            \n",
    "        self.lenght += 1\n",
    "        \n",
    "        return True\n",
    "    \n",
    "    def pop(self):\n",
    "        \n",
    "        if self.head is None:\n",
    "            return None\n",
    "        \n",
    "        temp = self.tail\n",
    "        prev = self.tail.prev\n",
    "        \n",
    "        prev.next = None\n",
    "        self.tail = prev\n",
    "        \n",
    "        self.lenght -= 1\n",
    "        \n",
    "        return temp\n",
    "    \n",
    "    def prepend(self, value):\n",
    "        new_node = Node(value)\n",
    "        \n",
    "        if self.head is None:\n",
    "            self.head = new_node\n",
    "            self.tail = new_node\n",
    "        else:\n",
    "            new_node.prev = None\n",
    "            temp =  self.head\n",
    "            new_node.next = temp\n",
    "            temp.prev = new_node\n",
    "            \n",
    "            self.head = new_node\n",
    "            \n",
    "        self.lenght +=1\n",
    "        \n",
    "    def pop_first(self):\n",
    "        \n",
    "        if self.head is None:\n",
    "            return None\n",
    "        \n",
    "        temp = self.head\n",
    "        next = self.head.next\n",
    "        \n",
    "        temp.next = None\n",
    "        next.prev = None\n",
    "        self.head = next\n",
    "        \n",
    "        self.lenght -= 1\n",
    "        \n",
    "        if self.lenght == 1:\n",
    "            self.head = None\n",
    "            self.tail = None\n",
    "        \n",
    "        return temp\n",
    "    \n",
    "    def get(self, index):\n",
    "        if index < 0 or index > self.lenght:\n",
    "            return None\n",
    "        \n",
    "        \n",
    "        temp = self.head\n",
    "        \n",
    "        for _ in range(index):\n",
    "            temp = temp.next\n",
    "            \n",
    "        return temp\n",
    "    \n",
    "    def set(self, index, value):\n",
    "        if self.head is None:\n",
    "            return None\n",
    "        \n",
    "        temp = self.get(index)\n",
    "        \n",
    "        temp.value = value\n",
    "        \n",
    "        return True\n",
    "    \n",
    "    def insert(self, index, value):\n",
    "        new_node = Node(value)\n",
    "        if self.head is None:\n",
    "            return None\n",
    "        \n",
    "        temp = self.get(index-1)\n",
    "        next = temp.next\n",
    "        \n",
    "        temp.next = new_node\n",
    "        new_node.next = next\n",
    "        next.prev = new_node\n",
    "        \n",
    "        \n",
    "        self.lenght += 1\n",
    "        \n",
    "        return True          \n",
    "        \n",
    "    def remove(self, index):\n",
    "        if self.head is None:\n",
    "            return None\n",
    "        \n",
    "        temp = self.get(index -1)\n",
    "        \n",
    "        prev = temp.prev\n",
    "        next = temp.next\n",
    "        \n",
    "        prev.next = temp.next\n",
    "        next.prev = temp.prev\n",
    "        \n",
    "        return temp"
   ]
  },
  {
   "cell_type": "code",
   "execution_count": 190,
   "metadata": {},
   "outputs": [],
   "source": [
    "dll = DoubleLinkedList(5)"
   ]
  },
  {
   "cell_type": "code",
   "execution_count": 191,
   "metadata": {},
   "outputs": [
    {
     "data": {
      "text/plain": [
       "True"
      ]
     },
     "execution_count": 191,
     "metadata": {},
     "output_type": "execute_result"
    }
   ],
   "source": [
    "dll.append(10)\n",
    "dll.append(27)"
   ]
  },
  {
   "cell_type": "code",
   "execution_count": 192,
   "metadata": {},
   "outputs": [
    {
     "name": "stdout",
     "output_type": "stream",
     "text": [
      "5\n",
      "10\n",
      "27\n"
     ]
    }
   ],
   "source": [
    "print(dll.head.value)\n",
    "print(dll.head.next.value)\n",
    "print(dll.head.next.next.value)"
   ]
  },
  {
   "cell_type": "code",
   "execution_count": 193,
   "metadata": {},
   "outputs": [
    {
     "name": "stdout",
     "output_type": "stream",
     "text": [
      "10\n",
      "27\n",
      "10\n"
     ]
    }
   ],
   "source": [
    "print(dll.head.next.value)\n",
    "print(dll.tail.value)\n",
    "print(dll.tail.prev.value)"
   ]
  },
  {
   "cell_type": "code",
   "execution_count": 194,
   "metadata": {},
   "outputs": [
    {
     "name": "stdout",
     "output_type": "stream",
     "text": [
      "<__main__.Node object at 0x7f02b0509870>\n",
      "27\n",
      "10\n"
     ]
    }
   ],
   "source": [
    "val = dll.pop()\n",
    "print(val)\n",
    "print(val.value)\n",
    "print(val.prev.value)\n"
   ]
  },
  {
   "cell_type": "code",
   "execution_count": 195,
   "metadata": {},
   "outputs": [
    {
     "name": "stdout",
     "output_type": "stream",
     "text": [
      "10\n"
     ]
    }
   ],
   "source": [
    "print(dll.tail.value)"
   ]
  },
  {
   "cell_type": "code",
   "execution_count": 196,
   "metadata": {},
   "outputs": [
    {
     "name": "stdout",
     "output_type": "stream",
     "text": [
      "4\n",
      "5\n",
      "None\n"
     ]
    }
   ],
   "source": [
    "dll.prepend(4)\n",
    "print(dll.head.value)\n",
    "print(dll.head.next.value)\n",
    "print(dll.head.prev)"
   ]
  },
  {
   "cell_type": "code",
   "execution_count": 197,
   "metadata": {},
   "outputs": [
    {
     "name": "stdout",
     "output_type": "stream",
     "text": [
      "4\n",
      "5\n",
      "10\n"
     ]
    }
   ],
   "source": [
    "val = dll.pop_first()\n",
    "print(val.value)\n",
    "print(dll.head.value)\n",
    "print(dll.head.next.value)"
   ]
  },
  {
   "cell_type": "code",
   "execution_count": 198,
   "metadata": {},
   "outputs": [
    {
     "name": "stdout",
     "output_type": "stream",
     "text": [
      "10\n"
     ]
    }
   ],
   "source": [
    "val = dll.get(0)\n",
    "print(val.next.value)"
   ]
  },
  {
   "cell_type": "code",
   "execution_count": 199,
   "metadata": {},
   "outputs": [
    {
     "name": "stdout",
     "output_type": "stream",
     "text": [
      "10\n"
     ]
    }
   ],
   "source": [
    "print(dll.head.next.value)"
   ]
  },
  {
   "cell_type": "code",
   "execution_count": 200,
   "metadata": {},
   "outputs": [
    {
     "name": "stdout",
     "output_type": "stream",
     "text": [
      "999\n"
     ]
    }
   ],
   "source": [
    "dll.set(1, 999)\n",
    "print(dll.head.next.value)"
   ]
  },
  {
   "cell_type": "code",
   "execution_count": 201,
   "metadata": {},
   "outputs": [
    {
     "name": "stdout",
     "output_type": "stream",
     "text": [
      "999\n"
     ]
    }
   ],
   "source": [
    "print(dll.tail.value)"
   ]
  },
  {
   "cell_type": "code",
   "execution_count": 215,
   "metadata": {},
   "outputs": [
    {
     "name": "stdout",
     "output_type": "stream",
     "text": [
      "5\n",
      "63\n",
      "55\n",
      "5\n",
      "101\n",
      "55\n",
      "1075\n",
      "999\n"
     ]
    }
   ],
   "source": [
    "temp = dll.head\n",
    "while temp is not None:\n",
    "    print(temp.value)\n",
    "    temp = temp.next"
   ]
  },
  {
   "cell_type": "code",
   "execution_count": 214,
   "metadata": {},
   "outputs": [
    {
     "data": {
      "text/plain": [
       "True"
      ]
     },
     "execution_count": 214,
     "metadata": {},
     "output_type": "execute_result"
    }
   ],
   "source": [
    "dll.insert(6, 1075)"
   ]
  }
 ],
 "metadata": {
  "kernelspec": {
   "display_name": "Python 3",
   "language": "python",
   "name": "python3"
  },
  "language_info": {
   "codemirror_mode": {
    "name": "ipython",
    "version": 3
   },
   "file_extension": ".py",
   "mimetype": "text/x-python",
   "name": "python",
   "nbconvert_exporter": "python",
   "pygments_lexer": "ipython3",
   "version": "3.10.12"
  }
 },
 "nbformat": 4,
 "nbformat_minor": 2
}
